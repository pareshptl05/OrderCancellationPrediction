{
 "cells": [
  {
   "cell_type": "code",
   "execution_count": 1,
   "id": "7de18fb8",
   "metadata": {},
   "outputs": [],
   "source": [
    "import pandas as pd\n",
    "import matplotlib.pyplot as plt\n",
    "from sklearn.feature_selection import SelectFromModel\n",
    "from sklearn.tree import DecisionTreeClassifier\n",
    "from sklearn.model_selection import train_test_split\n",
    "from catboost import CatBoostClassifier\n",
    "from sklearn.model_selection import GridSearchCV\n",
    "from sklearn.ensemble import RandomForestClassifier\n",
    "from sklearn.metrics import precision_score, recall_score, f1_score\n",
    "from sklearn.metrics import precision_recall_fscore_support\n",
    "from sklearn.metrics import classification_report\n",
    "import pickle"
   ]
  },
  {
   "cell_type": "code",
   "execution_count": 3,
   "id": "343205da",
   "metadata": {},
   "outputs": [],
   "source": [
    "df = pd.read_csv(\"Amazon Sale Report.csv\",low_memory=False)"
   ]
  },
  {
   "cell_type": "code",
   "execution_count": 4,
   "id": "ae28adc4",
   "metadata": {
    "scrolled": true
   },
   "outputs": [
    {
     "data": {
      "text/html": [
       "<div>\n",
       "<style scoped>\n",
       "    .dataframe tbody tr th:only-of-type {\n",
       "        vertical-align: middle;\n",
       "    }\n",
       "\n",
       "    .dataframe tbody tr th {\n",
       "        vertical-align: top;\n",
       "    }\n",
       "\n",
       "    .dataframe thead th {\n",
       "        text-align: right;\n",
       "    }\n",
       "</style>\n",
       "<table border=\"1\" class=\"dataframe\">\n",
       "  <thead>\n",
       "    <tr style=\"text-align: right;\">\n",
       "      <th></th>\n",
       "      <th>index</th>\n",
       "      <th>Order ID</th>\n",
       "      <th>Date</th>\n",
       "      <th>Status</th>\n",
       "      <th>Fulfilment</th>\n",
       "      <th>Sales Channel</th>\n",
       "      <th>ship-service-level</th>\n",
       "      <th>Style</th>\n",
       "      <th>SKU</th>\n",
       "      <th>Category</th>\n",
       "      <th>...</th>\n",
       "      <th>currency</th>\n",
       "      <th>Amount</th>\n",
       "      <th>ship-city</th>\n",
       "      <th>ship-state</th>\n",
       "      <th>ship-postal-code</th>\n",
       "      <th>ship-country</th>\n",
       "      <th>promotion-ids</th>\n",
       "      <th>B2B</th>\n",
       "      <th>fulfilled-by</th>\n",
       "      <th>Unnamed: 22</th>\n",
       "    </tr>\n",
       "  </thead>\n",
       "  <tbody>\n",
       "    <tr>\n",
       "      <th>0</th>\n",
       "      <td>0</td>\n",
       "      <td>405-8078784-5731545</td>\n",
       "      <td>04-30-22</td>\n",
       "      <td>Cancelled</td>\n",
       "      <td>Merchant</td>\n",
       "      <td>Amazon.in</td>\n",
       "      <td>Standard</td>\n",
       "      <td>SET389</td>\n",
       "      <td>SET389-KR-NP-S</td>\n",
       "      <td>Set</td>\n",
       "      <td>...</td>\n",
       "      <td>INR</td>\n",
       "      <td>647.62</td>\n",
       "      <td>MUMBAI</td>\n",
       "      <td>MAHARASHTRA</td>\n",
       "      <td>400081.0</td>\n",
       "      <td>IN</td>\n",
       "      <td>NaN</td>\n",
       "      <td>False</td>\n",
       "      <td>Easy Ship</td>\n",
       "      <td>NaN</td>\n",
       "    </tr>\n",
       "    <tr>\n",
       "      <th>1</th>\n",
       "      <td>1</td>\n",
       "      <td>171-9198151-1101146</td>\n",
       "      <td>04-30-22</td>\n",
       "      <td>Shipped - Delivered to Buyer</td>\n",
       "      <td>Merchant</td>\n",
       "      <td>Amazon.in</td>\n",
       "      <td>Standard</td>\n",
       "      <td>JNE3781</td>\n",
       "      <td>JNE3781-KR-XXXL</td>\n",
       "      <td>kurta</td>\n",
       "      <td>...</td>\n",
       "      <td>INR</td>\n",
       "      <td>406.00</td>\n",
       "      <td>BENGALURU</td>\n",
       "      <td>KARNATAKA</td>\n",
       "      <td>560085.0</td>\n",
       "      <td>IN</td>\n",
       "      <td>Amazon PLCC Free-Financing Universal Merchant ...</td>\n",
       "      <td>False</td>\n",
       "      <td>Easy Ship</td>\n",
       "      <td>NaN</td>\n",
       "    </tr>\n",
       "    <tr>\n",
       "      <th>2</th>\n",
       "      <td>2</td>\n",
       "      <td>404-0687676-7273146</td>\n",
       "      <td>04-30-22</td>\n",
       "      <td>Shipped</td>\n",
       "      <td>Amazon</td>\n",
       "      <td>Amazon.in</td>\n",
       "      <td>Expedited</td>\n",
       "      <td>JNE3371</td>\n",
       "      <td>JNE3371-KR-XL</td>\n",
       "      <td>kurta</td>\n",
       "      <td>...</td>\n",
       "      <td>INR</td>\n",
       "      <td>329.00</td>\n",
       "      <td>NAVI MUMBAI</td>\n",
       "      <td>MAHARASHTRA</td>\n",
       "      <td>410210.0</td>\n",
       "      <td>IN</td>\n",
       "      <td>IN Core Free Shipping 2015/04/08 23-48-5-108</td>\n",
       "      <td>True</td>\n",
       "      <td>NaN</td>\n",
       "      <td>NaN</td>\n",
       "    </tr>\n",
       "    <tr>\n",
       "      <th>3</th>\n",
       "      <td>3</td>\n",
       "      <td>403-9615377-8133951</td>\n",
       "      <td>04-30-22</td>\n",
       "      <td>Cancelled</td>\n",
       "      <td>Merchant</td>\n",
       "      <td>Amazon.in</td>\n",
       "      <td>Standard</td>\n",
       "      <td>J0341</td>\n",
       "      <td>J0341-DR-L</td>\n",
       "      <td>Western Dress</td>\n",
       "      <td>...</td>\n",
       "      <td>INR</td>\n",
       "      <td>753.33</td>\n",
       "      <td>PUDUCHERRY</td>\n",
       "      <td>PUDUCHERRY</td>\n",
       "      <td>605008.0</td>\n",
       "      <td>IN</td>\n",
       "      <td>NaN</td>\n",
       "      <td>False</td>\n",
       "      <td>Easy Ship</td>\n",
       "      <td>NaN</td>\n",
       "    </tr>\n",
       "    <tr>\n",
       "      <th>4</th>\n",
       "      <td>4</td>\n",
       "      <td>407-1069790-7240320</td>\n",
       "      <td>04-30-22</td>\n",
       "      <td>Shipped</td>\n",
       "      <td>Amazon</td>\n",
       "      <td>Amazon.in</td>\n",
       "      <td>Expedited</td>\n",
       "      <td>JNE3671</td>\n",
       "      <td>JNE3671-TU-XXXL</td>\n",
       "      <td>Top</td>\n",
       "      <td>...</td>\n",
       "      <td>INR</td>\n",
       "      <td>574.00</td>\n",
       "      <td>CHENNAI</td>\n",
       "      <td>TAMIL NADU</td>\n",
       "      <td>600073.0</td>\n",
       "      <td>IN</td>\n",
       "      <td>NaN</td>\n",
       "      <td>False</td>\n",
       "      <td>NaN</td>\n",
       "      <td>NaN</td>\n",
       "    </tr>\n",
       "    <tr>\n",
       "      <th>...</th>\n",
       "      <td>...</td>\n",
       "      <td>...</td>\n",
       "      <td>...</td>\n",
       "      <td>...</td>\n",
       "      <td>...</td>\n",
       "      <td>...</td>\n",
       "      <td>...</td>\n",
       "      <td>...</td>\n",
       "      <td>...</td>\n",
       "      <td>...</td>\n",
       "      <td>...</td>\n",
       "      <td>...</td>\n",
       "      <td>...</td>\n",
       "      <td>...</td>\n",
       "      <td>...</td>\n",
       "      <td>...</td>\n",
       "      <td>...</td>\n",
       "      <td>...</td>\n",
       "      <td>...</td>\n",
       "      <td>...</td>\n",
       "      <td>...</td>\n",
       "    </tr>\n",
       "    <tr>\n",
       "      <th>128970</th>\n",
       "      <td>128970</td>\n",
       "      <td>406-6001380-7673107</td>\n",
       "      <td>05-31-22</td>\n",
       "      <td>Shipped</td>\n",
       "      <td>Amazon</td>\n",
       "      <td>Amazon.in</td>\n",
       "      <td>Expedited</td>\n",
       "      <td>JNE3697</td>\n",
       "      <td>JNE3697-KR-XL</td>\n",
       "      <td>kurta</td>\n",
       "      <td>...</td>\n",
       "      <td>INR</td>\n",
       "      <td>517.00</td>\n",
       "      <td>HYDERABAD</td>\n",
       "      <td>TELANGANA</td>\n",
       "      <td>500013.0</td>\n",
       "      <td>IN</td>\n",
       "      <td>NaN</td>\n",
       "      <td>False</td>\n",
       "      <td>NaN</td>\n",
       "      <td>False</td>\n",
       "    </tr>\n",
       "    <tr>\n",
       "      <th>128971</th>\n",
       "      <td>128971</td>\n",
       "      <td>402-9551604-7544318</td>\n",
       "      <td>05-31-22</td>\n",
       "      <td>Shipped</td>\n",
       "      <td>Amazon</td>\n",
       "      <td>Amazon.in</td>\n",
       "      <td>Expedited</td>\n",
       "      <td>SET401</td>\n",
       "      <td>SET401-KR-NP-M</td>\n",
       "      <td>Set</td>\n",
       "      <td>...</td>\n",
       "      <td>INR</td>\n",
       "      <td>999.00</td>\n",
       "      <td>GURUGRAM</td>\n",
       "      <td>HARYANA</td>\n",
       "      <td>122004.0</td>\n",
       "      <td>IN</td>\n",
       "      <td>IN Core Free Shipping 2015/04/08 23-48-5-108</td>\n",
       "      <td>False</td>\n",
       "      <td>NaN</td>\n",
       "      <td>False</td>\n",
       "    </tr>\n",
       "    <tr>\n",
       "      <th>128972</th>\n",
       "      <td>128972</td>\n",
       "      <td>407-9547469-3152358</td>\n",
       "      <td>05-31-22</td>\n",
       "      <td>Shipped</td>\n",
       "      <td>Amazon</td>\n",
       "      <td>Amazon.in</td>\n",
       "      <td>Expedited</td>\n",
       "      <td>J0157</td>\n",
       "      <td>J0157-DR-XXL</td>\n",
       "      <td>Western Dress</td>\n",
       "      <td>...</td>\n",
       "      <td>INR</td>\n",
       "      <td>690.00</td>\n",
       "      <td>HYDERABAD</td>\n",
       "      <td>TELANGANA</td>\n",
       "      <td>500049.0</td>\n",
       "      <td>IN</td>\n",
       "      <td>NaN</td>\n",
       "      <td>False</td>\n",
       "      <td>NaN</td>\n",
       "      <td>False</td>\n",
       "    </tr>\n",
       "    <tr>\n",
       "      <th>128973</th>\n",
       "      <td>128973</td>\n",
       "      <td>402-6184140-0545956</td>\n",
       "      <td>05-31-22</td>\n",
       "      <td>Shipped</td>\n",
       "      <td>Amazon</td>\n",
       "      <td>Amazon.in</td>\n",
       "      <td>Expedited</td>\n",
       "      <td>J0012</td>\n",
       "      <td>J0012-SKD-XS</td>\n",
       "      <td>Set</td>\n",
       "      <td>...</td>\n",
       "      <td>INR</td>\n",
       "      <td>1199.00</td>\n",
       "      <td>Halol</td>\n",
       "      <td>Gujarat</td>\n",
       "      <td>389350.0</td>\n",
       "      <td>IN</td>\n",
       "      <td>IN Core Free Shipping 2015/04/08 23-48-5-108</td>\n",
       "      <td>False</td>\n",
       "      <td>NaN</td>\n",
       "      <td>False</td>\n",
       "    </tr>\n",
       "    <tr>\n",
       "      <th>128974</th>\n",
       "      <td>128974</td>\n",
       "      <td>408-7436540-8728312</td>\n",
       "      <td>05-31-22</td>\n",
       "      <td>Shipped</td>\n",
       "      <td>Amazon</td>\n",
       "      <td>Amazon.in</td>\n",
       "      <td>Expedited</td>\n",
       "      <td>J0003</td>\n",
       "      <td>J0003-SET-S</td>\n",
       "      <td>Set</td>\n",
       "      <td>...</td>\n",
       "      <td>INR</td>\n",
       "      <td>696.00</td>\n",
       "      <td>Raipur</td>\n",
       "      <td>CHHATTISGARH</td>\n",
       "      <td>492014.0</td>\n",
       "      <td>IN</td>\n",
       "      <td>IN Core Free Shipping 2015/04/08 23-48-5-108</td>\n",
       "      <td>False</td>\n",
       "      <td>NaN</td>\n",
       "      <td>False</td>\n",
       "    </tr>\n",
       "  </tbody>\n",
       "</table>\n",
       "<p>128975 rows × 24 columns</p>\n",
       "</div>"
      ],
      "text/plain": [
       "         index             Order ID      Date                        Status  \\\n",
       "0            0  405-8078784-5731545  04-30-22                     Cancelled   \n",
       "1            1  171-9198151-1101146  04-30-22  Shipped - Delivered to Buyer   \n",
       "2            2  404-0687676-7273146  04-30-22                       Shipped   \n",
       "3            3  403-9615377-8133951  04-30-22                     Cancelled   \n",
       "4            4  407-1069790-7240320  04-30-22                       Shipped   \n",
       "...        ...                  ...       ...                           ...   \n",
       "128970  128970  406-6001380-7673107  05-31-22                       Shipped   \n",
       "128971  128971  402-9551604-7544318  05-31-22                       Shipped   \n",
       "128972  128972  407-9547469-3152358  05-31-22                       Shipped   \n",
       "128973  128973  402-6184140-0545956  05-31-22                       Shipped   \n",
       "128974  128974  408-7436540-8728312  05-31-22                       Shipped   \n",
       "\n",
       "       Fulfilment Sales Channel  ship-service-level    Style              SKU  \\\n",
       "0        Merchant      Amazon.in           Standard   SET389   SET389-KR-NP-S   \n",
       "1        Merchant      Amazon.in           Standard  JNE3781  JNE3781-KR-XXXL   \n",
       "2          Amazon      Amazon.in          Expedited  JNE3371    JNE3371-KR-XL   \n",
       "3        Merchant      Amazon.in           Standard    J0341       J0341-DR-L   \n",
       "4          Amazon      Amazon.in          Expedited  JNE3671  JNE3671-TU-XXXL   \n",
       "...           ...            ...                ...      ...              ...   \n",
       "128970     Amazon      Amazon.in          Expedited  JNE3697    JNE3697-KR-XL   \n",
       "128971     Amazon      Amazon.in          Expedited   SET401   SET401-KR-NP-M   \n",
       "128972     Amazon      Amazon.in          Expedited    J0157     J0157-DR-XXL   \n",
       "128973     Amazon      Amazon.in          Expedited    J0012     J0012-SKD-XS   \n",
       "128974     Amazon      Amazon.in          Expedited    J0003      J0003-SET-S   \n",
       "\n",
       "             Category  ... currency   Amount    ship-city    ship-state  \\\n",
       "0                 Set  ...      INR   647.62       MUMBAI   MAHARASHTRA   \n",
       "1               kurta  ...      INR   406.00    BENGALURU     KARNATAKA   \n",
       "2               kurta  ...      INR   329.00  NAVI MUMBAI   MAHARASHTRA   \n",
       "3       Western Dress  ...      INR   753.33   PUDUCHERRY    PUDUCHERRY   \n",
       "4                 Top  ...      INR   574.00      CHENNAI    TAMIL NADU   \n",
       "...               ...  ...      ...      ...          ...           ...   \n",
       "128970          kurta  ...      INR   517.00    HYDERABAD     TELANGANA   \n",
       "128971            Set  ...      INR   999.00     GURUGRAM       HARYANA   \n",
       "128972  Western Dress  ...      INR   690.00    HYDERABAD     TELANGANA   \n",
       "128973            Set  ...      INR  1199.00        Halol       Gujarat   \n",
       "128974            Set  ...      INR   696.00       Raipur  CHHATTISGARH   \n",
       "\n",
       "       ship-postal-code  ship-country  \\\n",
       "0              400081.0            IN   \n",
       "1              560085.0            IN   \n",
       "2              410210.0            IN   \n",
       "3              605008.0            IN   \n",
       "4              600073.0            IN   \n",
       "...                 ...           ...   \n",
       "128970         500013.0            IN   \n",
       "128971         122004.0            IN   \n",
       "128972         500049.0            IN   \n",
       "128973         389350.0            IN   \n",
       "128974         492014.0            IN   \n",
       "\n",
       "                                            promotion-ids    B2B  \\\n",
       "0                                                     NaN  False   \n",
       "1       Amazon PLCC Free-Financing Universal Merchant ...  False   \n",
       "2            IN Core Free Shipping 2015/04/08 23-48-5-108   True   \n",
       "3                                                     NaN  False   \n",
       "4                                                     NaN  False   \n",
       "...                                                   ...    ...   \n",
       "128970                                                NaN  False   \n",
       "128971       IN Core Free Shipping 2015/04/08 23-48-5-108  False   \n",
       "128972                                                NaN  False   \n",
       "128973       IN Core Free Shipping 2015/04/08 23-48-5-108  False   \n",
       "128974       IN Core Free Shipping 2015/04/08 23-48-5-108  False   \n",
       "\n",
       "        fulfilled-by Unnamed: 22  \n",
       "0          Easy Ship         NaN  \n",
       "1          Easy Ship         NaN  \n",
       "2                NaN         NaN  \n",
       "3          Easy Ship         NaN  \n",
       "4                NaN         NaN  \n",
       "...              ...         ...  \n",
       "128970           NaN       False  \n",
       "128971           NaN       False  \n",
       "128972           NaN       False  \n",
       "128973           NaN       False  \n",
       "128974           NaN       False  \n",
       "\n",
       "[128975 rows x 24 columns]"
      ]
     },
     "execution_count": 4,
     "metadata": {},
     "output_type": "execute_result"
    }
   ],
   "source": [
    "df"
   ]
  },
  {
   "cell_type": "code",
   "execution_count": 5,
   "id": "7ac94102",
   "metadata": {
    "scrolled": true
   },
   "outputs": [
    {
     "name": "stdout",
     "output_type": "stream",
     "text": [
      "<class 'pandas.core.frame.DataFrame'>\n",
      "RangeIndex: 128975 entries, 0 to 128974\n",
      "Data columns (total 24 columns):\n",
      " #   Column              Non-Null Count   Dtype  \n",
      "---  ------              --------------   -----  \n",
      " 0   index               128975 non-null  int64  \n",
      " 1   Order ID            128975 non-null  object \n",
      " 2   Date                128975 non-null  object \n",
      " 3   Status              128975 non-null  object \n",
      " 4   Fulfilment          128975 non-null  object \n",
      " 5   Sales Channel       128975 non-null  object \n",
      " 6   ship-service-level  128975 non-null  object \n",
      " 7   Style               128975 non-null  object \n",
      " 8   SKU                 128975 non-null  object \n",
      " 9   Category            128975 non-null  object \n",
      " 10  Size                128975 non-null  object \n",
      " 11  ASIN                128975 non-null  object \n",
      " 12  Courier Status      122103 non-null  object \n",
      " 13  Qty                 128975 non-null  int64  \n",
      " 14  currency            121180 non-null  object \n",
      " 15  Amount              121180 non-null  float64\n",
      " 16  ship-city           128942 non-null  object \n",
      " 17  ship-state          128942 non-null  object \n",
      " 18  ship-postal-code    128942 non-null  float64\n",
      " 19  ship-country        128942 non-null  object \n",
      " 20  promotion-ids       79822 non-null   object \n",
      " 21  B2B                 128975 non-null  bool   \n",
      " 22  fulfilled-by        39277 non-null   object \n",
      " 23  Unnamed: 22         79925 non-null   object \n",
      "dtypes: bool(1), float64(2), int64(2), object(19)\n",
      "memory usage: 22.8+ MB\n"
     ]
    }
   ],
   "source": [
    "df.info()"
   ]
  },
  {
   "cell_type": "markdown",
   "id": "b4f95189",
   "metadata": {},
   "source": [
    "# Removing index and order id"
   ]
  },
  {
   "cell_type": "code",
   "execution_count": 6,
   "id": "6e149e84",
   "metadata": {},
   "outputs": [],
   "source": [
    "df.drop(\"index\",axis=1,inplace=True)"
   ]
  },
  {
   "cell_type": "code",
   "execution_count": 7,
   "id": "a6fba892",
   "metadata": {},
   "outputs": [],
   "source": [
    "df.drop(\"Order ID\",axis=1,inplace=True)"
   ]
  },
  {
   "cell_type": "code",
   "execution_count": 8,
   "id": "c94dafb4",
   "metadata": {
    "collapsed": true
   },
   "outputs": [
    {
     "data": {
      "text/plain": [
       "array(['04-30-22', '04-29-22', '04-28-22', '04-27-22', '04-26-22',\n",
       "       '04-25-22', '04-24-22', '04-23-22', '04-22-22', '04-21-22',\n",
       "       '04-20-22', '04-19-22', '04-18-22', '04-17-22', '04-16-22',\n",
       "       '04-15-22', '04-14-22', '04-13-22', '04-12-22', '04-11-22',\n",
       "       '04-10-22', '04-09-22', '04-08-22', '04-07-22', '04-06-22',\n",
       "       '04-05-22', '04-04-22', '04-03-22', '04-02-22', '04-01-22',\n",
       "       '03-31-22', '05-31-22', '05-30-22', '05-29-22', '05-28-22',\n",
       "       '05-27-22', '05-26-22', '05-25-22', '05-24-22', '05-23-22',\n",
       "       '05-22-22', '05-21-22', '05-20-22', '05-19-22', '05-18-22',\n",
       "       '05-17-22', '05-16-22', '05-15-22', '05-14-22', '05-13-22',\n",
       "       '05-12-22', '05-11-22', '05-10-22', '05-09-22', '05-08-22',\n",
       "       '05-07-22', '05-06-22', '05-05-22', '05-04-22', '05-03-22',\n",
       "       '05-02-22', '05-01-22', '06-29-22', '06-28-22', '06-27-22',\n",
       "       '06-26-22', '06-25-22', '06-24-22', '06-23-22', '06-22-22',\n",
       "       '06-21-22', '06-20-22', '06-19-22', '06-18-22', '06-17-22',\n",
       "       '06-16-22', '06-15-22', '06-14-22', '06-13-22', '06-12-22',\n",
       "       '06-11-22', '06-10-22', '06-09-22', '06-08-22', '06-07-22',\n",
       "       '06-06-22', '06-05-22', '06-04-22', '06-03-22', '06-02-22',\n",
       "       '06-01-22'], dtype=object)"
      ]
     },
     "execution_count": 8,
     "metadata": {},
     "output_type": "execute_result"
    }
   ],
   "source": [
    "df[\"Date\"].unique()"
   ]
  },
  {
   "cell_type": "code",
   "execution_count": 9,
   "id": "c1b905bc",
   "metadata": {},
   "outputs": [
    {
     "data": {
      "text/plain": [
       "array(['Cancelled', 'Shipped - Delivered to Buyer', 'Shipped',\n",
       "       'Shipped - Returned to Seller', 'Shipped - Rejected by Buyer',\n",
       "       'Shipped - Lost in Transit', 'Shipped - Out for Delivery',\n",
       "       'Shipped - Returning to Seller', 'Shipped - Picked Up', 'Pending',\n",
       "       'Pending - Waiting for Pick Up', 'Shipped - Damaged', 'Shipping'],\n",
       "      dtype=object)"
      ]
     },
     "execution_count": 9,
     "metadata": {},
     "output_type": "execute_result"
    }
   ],
   "source": [
    "df[\"Status\"].unique()"
   ]
  },
  {
   "cell_type": "code",
   "execution_count": 10,
   "id": "46d6ef2b",
   "metadata": {},
   "outputs": [
    {
     "data": {
      "text/plain": [
       "13"
      ]
     },
     "execution_count": 10,
     "metadata": {},
     "output_type": "execute_result"
    }
   ],
   "source": [
    "df[\"Status\"].nunique()"
   ]
  },
  {
   "cell_type": "code",
   "execution_count": 11,
   "id": "d95e1ec8",
   "metadata": {},
   "outputs": [],
   "source": [
    "def col_val_replace(df,col):\n",
    "  repl_dict={}\n",
    "  df[col]=df[col].map(lambda x: x.upper() if type(x)==str else x)\n",
    "  for i in df[col].unique():\n",
    "    print(\"Enter replacement for \", i)\n",
    "    ip = input()\n",
    "    if len(ip)==0:\n",
    "      repl_dict[i]=i\n",
    "    else:\n",
    "      repl_dict[i]=ip\n",
    "  df[col] = df[col].map(lambda x: repl_dict[x])"
   ]
  },
  {
   "cell_type": "code",
   "execution_count": 12,
   "id": "992a936d",
   "metadata": {},
   "outputs": [
    {
     "name": "stdout",
     "output_type": "stream",
     "text": [
      "Enter replacement for  CANCELLED\n",
      "\n",
      "Enter replacement for  SHIPPED - DELIVERED TO BUYER\n",
      "SHIPPED\n",
      "Enter replacement for  SHIPPED\n",
      "\n",
      "Enter replacement for  SHIPPED - RETURNED TO SELLER\n",
      "SHIPPED\n",
      "Enter replacement for  SHIPPED - REJECTED BY BUYER\n",
      "SHIPPED\n",
      "Enter replacement for  SHIPPED - LOST IN TRANSIT\n",
      "SHIPPED\n",
      "Enter replacement for  SHIPPED - OUT FOR DELIVERY\n",
      "SHIPPED\n",
      "Enter replacement for  SHIPPED - RETURNING TO SELLER\n",
      "SHIPPED\n",
      "Enter replacement for  SHIPPED - PICKED UP\n",
      "SHIPPED\n",
      "Enter replacement for  PENDING\n",
      "SHIPPED\n",
      "Enter replacement for  PENDING - WAITING FOR PICK UP\n",
      "SHIPPED\n",
      "Enter replacement for  SHIPPED - DAMAGED\n",
      "SHIPPED\n",
      "Enter replacement for  SHIPPING\n",
      "SHIPPED\n"
     ]
    }
   ],
   "source": [
    "col_val_replace(df,\"Status\")"
   ]
  },
  {
   "cell_type": "code",
   "execution_count": 13,
   "id": "810eaaa9",
   "metadata": {},
   "outputs": [
    {
     "data": {
      "text/plain": [
       "2"
      ]
     },
     "execution_count": 13,
     "metadata": {},
     "output_type": "execute_result"
    }
   ],
   "source": [
    "df[\"Status\"].nunique()"
   ]
  },
  {
   "cell_type": "code",
   "execution_count": 14,
   "id": "05d2011d",
   "metadata": {},
   "outputs": [
    {
     "data": {
      "text/plain": [
       "array(['Merchant', 'Amazon'], dtype=object)"
      ]
     },
     "execution_count": 14,
     "metadata": {},
     "output_type": "execute_result"
    }
   ],
   "source": [
    "df[\"Fulfilment\"].unique()"
   ]
  },
  {
   "cell_type": "code",
   "execution_count": 16,
   "id": "851e0fad",
   "metadata": {},
   "outputs": [],
   "source": [
    "df.rename(columns={\"Sales Channel \":\"Sales Channel\"},inplace = True)"
   ]
  },
  {
   "cell_type": "code",
   "execution_count": 17,
   "id": "61ba8bf7",
   "metadata": {},
   "outputs": [
    {
     "data": {
      "text/plain": [
       "array(['Amazon.in', 'Non-Amazon'], dtype=object)"
      ]
     },
     "execution_count": 17,
     "metadata": {},
     "output_type": "execute_result"
    }
   ],
   "source": [
    "df[\"Sales Channel\"].unique()"
   ]
  },
  {
   "cell_type": "code",
   "execution_count": 18,
   "id": "7d3a06bb",
   "metadata": {},
   "outputs": [
    {
     "data": {
      "text/plain": [
       "array(['Standard', 'Expedited'], dtype=object)"
      ]
     },
     "execution_count": 18,
     "metadata": {},
     "output_type": "execute_result"
    }
   ],
   "source": [
    "df[\"ship-service-level\"].unique()"
   ]
  },
  {
   "cell_type": "code",
   "execution_count": 19,
   "id": "2fa2b3fe",
   "metadata": {},
   "outputs": [
    {
     "data": {
      "text/plain": [
       "1377"
      ]
     },
     "execution_count": 19,
     "metadata": {},
     "output_type": "execute_result"
    }
   ],
   "source": [
    "df[\"Style\"].nunique()"
   ]
  },
  {
   "cell_type": "code",
   "execution_count": 20,
   "id": "00f3739d",
   "metadata": {},
   "outputs": [
    {
     "data": {
      "text/plain": [
       "7195"
      ]
     },
     "execution_count": 20,
     "metadata": {},
     "output_type": "execute_result"
    }
   ],
   "source": [
    "df[\"SKU\"].nunique()"
   ]
  },
  {
   "cell_type": "code",
   "execution_count": 21,
   "id": "b51a5102",
   "metadata": {},
   "outputs": [
    {
     "data": {
      "text/plain": [
       "9"
      ]
     },
     "execution_count": 21,
     "metadata": {},
     "output_type": "execute_result"
    }
   ],
   "source": [
    "df[\"Category\"].nunique()"
   ]
  },
  {
   "cell_type": "code",
   "execution_count": 22,
   "id": "5ae88f2c",
   "metadata": {},
   "outputs": [
    {
     "data": {
      "text/plain": [
       "array(['S', '3XL', 'XL', 'L', 'XXL', 'XS', '6XL', 'M', '4XL', '5XL',\n",
       "       'Free'], dtype=object)"
      ]
     },
     "execution_count": 22,
     "metadata": {},
     "output_type": "execute_result"
    }
   ],
   "source": [
    "df[\"Size\"].unique()"
   ]
  },
  {
   "cell_type": "code",
   "execution_count": 23,
   "id": "be2c1028",
   "metadata": {},
   "outputs": [
    {
     "data": {
      "text/plain": [
       "7190"
      ]
     },
     "execution_count": 23,
     "metadata": {},
     "output_type": "execute_result"
    }
   ],
   "source": [
    "df[\"ASIN\"].nunique()"
   ]
  },
  {
   "cell_type": "code",
   "execution_count": 24,
   "id": "a29f863c",
   "metadata": {},
   "outputs": [
    {
     "data": {
      "text/plain": [
       "array([nan, 'Shipped', 'Cancelled', 'Unshipped'], dtype=object)"
      ]
     },
     "execution_count": 24,
     "metadata": {},
     "output_type": "execute_result"
    }
   ],
   "source": [
    "df[\"Courier Status\"].unique()"
   ]
  },
  {
   "cell_type": "code",
   "execution_count": 25,
   "id": "0f86eedd",
   "metadata": {},
   "outputs": [],
   "source": [
    "df.drop(\"Courier Status\",axis=1,inplace=True)"
   ]
  },
  {
   "cell_type": "code",
   "execution_count": 26,
   "id": "139fef06",
   "metadata": {
    "scrolled": true
   },
   "outputs": [
    {
     "data": {
      "text/plain": [
       "array([ 0,  1,  2, 15,  3,  9, 13,  5,  4,  8], dtype=int64)"
      ]
     },
     "execution_count": 26,
     "metadata": {},
     "output_type": "execute_result"
    }
   ],
   "source": [
    "df[\"Qty\"].unique()"
   ]
  },
  {
   "cell_type": "markdown",
   "id": "e6a1bd71",
   "metadata": {},
   "source": [
    "# Dropping currency column as having only one unique value "
   ]
  },
  {
   "cell_type": "code",
   "execution_count": 27,
   "id": "57bd3c2d",
   "metadata": {},
   "outputs": [
    {
     "data": {
      "text/plain": [
       "array(['INR', nan], dtype=object)"
      ]
     },
     "execution_count": 27,
     "metadata": {},
     "output_type": "execute_result"
    }
   ],
   "source": [
    "df[\"currency\"].unique()"
   ]
  },
  {
   "cell_type": "code",
   "execution_count": 28,
   "id": "d28551fc",
   "metadata": {},
   "outputs": [],
   "source": [
    "df.drop(\"currency\",axis=1,inplace=True)"
   ]
  },
  {
   "cell_type": "code",
   "execution_count": 30,
   "id": "80cfb4ed",
   "metadata": {},
   "outputs": [
    {
     "data": {
      "text/plain": [
       "8955"
      ]
     },
     "execution_count": 30,
     "metadata": {},
     "output_type": "execute_result"
    }
   ],
   "source": [
    "df[\"ship-city\"].nunique()"
   ]
  },
  {
   "cell_type": "code",
   "execution_count": 31,
   "id": "1fd7787a",
   "metadata": {},
   "outputs": [],
   "source": [
    "df[\"ship-city\"] = df[\"ship-city\"].map(lambda x: x.upper() if type(x)==str else x)"
   ]
  },
  {
   "cell_type": "code",
   "execution_count": 32,
   "id": "04e1bde3",
   "metadata": {},
   "outputs": [
    {
     "data": {
      "text/plain": [
       "7297"
      ]
     },
     "execution_count": 32,
     "metadata": {},
     "output_type": "execute_result"
    }
   ],
   "source": [
    "df[\"ship-city\"].nunique()"
   ]
  },
  {
   "cell_type": "code",
   "execution_count": 33,
   "id": "e3b0c6d4",
   "metadata": {},
   "outputs": [
    {
     "data": {
      "text/plain": [
       "array(['MAHARASHTRA', 'KARNATAKA', 'PUDUCHERRY', 'TAMIL NADU',\n",
       "       'UTTAR PRADESH', 'CHANDIGARH', 'TELANGANA', 'ANDHRA PRADESH',\n",
       "       'RAJASTHAN', 'DELHI', 'HARYANA', 'ASSAM', 'JHARKHAND',\n",
       "       'CHHATTISGARH', 'ODISHA', 'KERALA', 'MADHYA PRADESH',\n",
       "       'WEST BENGAL', 'NAGALAND', 'Gujarat', 'UTTARAKHAND', 'BIHAR',\n",
       "       'JAMMU & KASHMIR', 'PUNJAB', 'HIMACHAL PRADESH',\n",
       "       'ARUNACHAL PRADESH', 'MANIPUR', 'Goa', 'MEGHALAYA', 'GOA',\n",
       "       'TRIPURA', 'LADAKH', 'DADRA AND NAGAR', 'SIKKIM', 'Delhi', nan,\n",
       "       'ANDAMAN & NICOBAR ', 'Punjab', 'Rajshthan', 'Manipur',\n",
       "       'rajasthan', 'Odisha', 'NL', 'Bihar', 'MIZORAM', 'punjab',\n",
       "       'New Delhi', 'Rajasthan', 'Punjab/Mohali/Zirakpur', 'Puducherry',\n",
       "       'delhi', 'RJ', 'Chandigarh', 'orissa', 'LAKSHADWEEP', 'goa', 'PB',\n",
       "       'APO', 'Arunachal Pradesh', 'AR', 'Pondicherry', 'Sikkim',\n",
       "       'Arunachal pradesh', 'Nagaland', 'bihar', 'Mizoram', 'rajsthan',\n",
       "       'Orissa', 'Rajsthan', 'Meghalaya'], dtype=object)"
      ]
     },
     "execution_count": 33,
     "metadata": {},
     "output_type": "execute_result"
    }
   ],
   "source": [
    "df[\"ship-state\"].unique() "
   ]
  },
  {
   "cell_type": "code",
   "execution_count": 34,
   "id": "fc183ff8",
   "metadata": {},
   "outputs": [
    {
     "data": {
      "text/plain": [
       "69"
      ]
     },
     "execution_count": 34,
     "metadata": {},
     "output_type": "execute_result"
    }
   ],
   "source": [
    "df[\"ship-state\"].nunique()"
   ]
  },
  {
   "cell_type": "code",
   "execution_count": 35,
   "id": "bac58e46",
   "metadata": {},
   "outputs": [
    {
     "name": "stdout",
     "output_type": "stream",
     "text": [
      "Enter replacement for  MAHARASHTRA\n",
      "\n",
      "Enter replacement for  KARNATAKA\n",
      "\n",
      "Enter replacement for  PUDUCHERRY\n",
      "\n",
      "Enter replacement for  TAMIL NADU\n",
      "\n",
      "Enter replacement for  UTTAR PRADESH\n",
      "\n",
      "Enter replacement for  CHANDIGARH\n",
      "\n",
      "Enter replacement for  TELANGANA\n",
      "\n",
      "Enter replacement for  ANDHRA PRADESH\n",
      "\n",
      "Enter replacement for  RAJASTHAN\n",
      "\n",
      "Enter replacement for  DELHI\n",
      "\n",
      "Enter replacement for  HARYANA\n",
      "\n",
      "Enter replacement for  ASSAM\n",
      "\n",
      "Enter replacement for  JHARKHAND\n",
      "\n",
      "Enter replacement for  CHHATTISGARH\n",
      "\n",
      "Enter replacement for  ODISHA\n",
      "\n",
      "Enter replacement for  KERALA\n",
      "\n",
      "Enter replacement for  MADHYA PRADESH\n",
      "\n",
      "Enter replacement for  WEST BENGAL\n",
      "\n",
      "Enter replacement for  NAGALAND\n",
      "\n",
      "Enter replacement for  GUJARAT\n",
      "\n",
      "Enter replacement for  UTTARAKHAND\n",
      "\n",
      "Enter replacement for  BIHAR\n",
      "\n",
      "Enter replacement for  JAMMU & KASHMIR\n",
      "\n",
      "Enter replacement for  PUNJAB\n",
      "\n",
      "Enter replacement for  HIMACHAL PRADESH\n",
      "\n",
      "Enter replacement for  ARUNACHAL PRADESH\n",
      "\n",
      "Enter replacement for  MANIPUR\n",
      "\n",
      "Enter replacement for  GOA\n",
      "\n",
      "Enter replacement for  MEGHALAYA\n",
      "\n",
      "Enter replacement for  TRIPURA\n",
      "\n",
      "Enter replacement for  LADAKH\n",
      "\n",
      "Enter replacement for  DADRA AND NAGAR\n",
      "\n",
      "Enter replacement for  SIKKIM\n",
      "\n",
      "Enter replacement for  nan\n",
      "\n",
      "Enter replacement for  ANDAMAN & NICOBAR \n",
      "\n",
      "Enter replacement for  RAJSHTHAN\n",
      "RAJASTHAN\n",
      "Enter replacement for  NL\n",
      "NAGALAND\n",
      "Enter replacement for  MIZORAM\n",
      "\n",
      "Enter replacement for  NEW DELHI\n",
      "DELHI\n",
      "Enter replacement for  PUNJAB/MOHALI/ZIRAKPUR\n",
      "PUNJAB\n",
      "Enter replacement for  RJ\n",
      "RAJASTHAN\n",
      "Enter replacement for  ORISSA\n",
      "ODISHA\n",
      "Enter replacement for  LAKSHADWEEP\n",
      "\n",
      "Enter replacement for  PB\n",
      "PUNJAB\n",
      "Enter replacement for  APO\n",
      "\n",
      "Enter replacement for  AR\n",
      "ARUNACHAL PRADESH\n",
      "Enter replacement for  PONDICHERRY\n",
      "PUDUCHERRY\n",
      "Enter replacement for  RAJSTHAN\n",
      "RAJASTHAN\n"
     ]
    }
   ],
   "source": [
    "col_val_replace(df,\"ship-state\")"
   ]
  },
  {
   "cell_type": "code",
   "execution_count": 36,
   "id": "fd1f8eab",
   "metadata": {},
   "outputs": [
    {
     "data": {
      "text/plain": [
       "37"
      ]
     },
     "execution_count": 36,
     "metadata": {},
     "output_type": "execute_result"
    }
   ],
   "source": [
    "df[\"ship-state\"].nunique()"
   ]
  },
  {
   "cell_type": "code",
   "execution_count": 37,
   "id": "54a768fa",
   "metadata": {},
   "outputs": [
    {
     "data": {
      "text/plain": [
       "array(['MAHARASHTRA', 'KARNATAKA', 'PUDUCHERRY', 'TAMIL NADU',\n",
       "       'UTTAR PRADESH', 'CHANDIGARH', 'TELANGANA', 'ANDHRA PRADESH',\n",
       "       'RAJASTHAN', 'DELHI', 'HARYANA', 'ASSAM', 'JHARKHAND',\n",
       "       'CHHATTISGARH', 'ODISHA', 'KERALA', 'MADHYA PRADESH',\n",
       "       'WEST BENGAL', 'NAGALAND', 'GUJARAT', 'UTTARAKHAND', 'BIHAR',\n",
       "       'JAMMU & KASHMIR', 'PUNJAB', 'HIMACHAL PRADESH',\n",
       "       'ARUNACHAL PRADESH', 'MANIPUR', 'GOA', 'MEGHALAYA', 'TRIPURA',\n",
       "       'LADAKH', 'DADRA AND NAGAR', 'SIKKIM', nan, 'ANDAMAN & NICOBAR ',\n",
       "       'MIZORAM', 'LAKSHADWEEP', 'APO'], dtype=object)"
      ]
     },
     "execution_count": 37,
     "metadata": {},
     "output_type": "execute_result"
    }
   ],
   "source": [
    "df[\"ship-state\"].unique()"
   ]
  },
  {
   "cell_type": "code",
   "execution_count": 38,
   "id": "5a572520",
   "metadata": {},
   "outputs": [],
   "source": [
    "df.to_csv(\"Amazon processed.csv\",index=False)"
   ]
  },
  {
   "cell_type": "code",
   "execution_count": 39,
   "id": "cc3f702e",
   "metadata": {},
   "outputs": [
    {
     "data": {
      "text/plain": [
       "9459"
      ]
     },
     "execution_count": 39,
     "metadata": {},
     "output_type": "execute_result"
    }
   ],
   "source": [
    "df[\"ship-postal-code\"].nunique()"
   ]
  },
  {
   "cell_type": "code",
   "execution_count": 40,
   "id": "c9c53885",
   "metadata": {},
   "outputs": [
    {
     "data": {
      "text/plain": [
       "7297"
      ]
     },
     "execution_count": 40,
     "metadata": {},
     "output_type": "execute_result"
    }
   ],
   "source": [
    "df[\"ship-city\"].nunique()"
   ]
  },
  {
   "cell_type": "code",
   "execution_count": 41,
   "id": "5b473cbe",
   "metadata": {},
   "outputs": [
    {
     "data": {
      "text/plain": [
       "ship-city                ship-postal-code\n",
       "NOIDA                    201301.0            972\n",
       "GURUGRAM                 122001.0            572\n",
       "BENGALURU                560068.0            570\n",
       "                         560037.0            556\n",
       "                         560076.0            512\n",
       "                                            ... \n",
       "KOCH BIHAR               736171.0              1\n",
       "KIZHUVALAM KOONTHALLOOR  695304.0              1\n",
       "KIZHUPARAMBA             673645.0              1\n",
       "KISHANGARH RENWAL        303603.0              1\n",
       "KOTANANDURU              533407.0              1\n",
       "Length: 14406, dtype: int64"
      ]
     },
     "execution_count": 41,
     "metadata": {},
     "output_type": "execute_result"
    }
   ],
   "source": [
    "df.loc[:,[\"ship-city\",\"ship-postal-code\"]].value_counts()"
   ]
  },
  {
   "cell_type": "code",
   "execution_count": 42,
   "id": "af11c24e",
   "metadata": {},
   "outputs": [],
   "source": [
    "df.drop(\"ship-city\",axis=1,inplace=True)"
   ]
  },
  {
   "cell_type": "code",
   "execution_count": 43,
   "id": "2878e340",
   "metadata": {},
   "outputs": [
    {
     "data": {
      "text/plain": [
       "array(['IN', nan], dtype=object)"
      ]
     },
     "execution_count": 43,
     "metadata": {},
     "output_type": "execute_result"
    }
   ],
   "source": [
    "df[\"ship-country\"].unique()"
   ]
  },
  {
   "cell_type": "code",
   "execution_count": 44,
   "id": "8f3bf4a2",
   "metadata": {},
   "outputs": [],
   "source": [
    "df.drop(\"ship-country\",axis=1,inplace=True)"
   ]
  },
  {
   "cell_type": "code",
   "execution_count": 45,
   "id": "d5bd32d6",
   "metadata": {},
   "outputs": [
    {
     "data": {
      "text/plain": [
       "5787"
      ]
     },
     "execution_count": 45,
     "metadata": {},
     "output_type": "execute_result"
    }
   ],
   "source": [
    "df[\"promotion-ids\"].nunique()"
   ]
  },
  {
   "cell_type": "code",
   "execution_count": 46,
   "id": "4c764903",
   "metadata": {},
   "outputs": [
    {
     "data": {
      "text/plain": [
       "2"
      ]
     },
     "execution_count": 46,
     "metadata": {},
     "output_type": "execute_result"
    }
   ],
   "source": [
    "df[\"B2B\"].nunique()"
   ]
  },
  {
   "cell_type": "code",
   "execution_count": 47,
   "id": "5a64fd0a",
   "metadata": {},
   "outputs": [
    {
     "data": {
      "text/plain": [
       "1"
      ]
     },
     "execution_count": 47,
     "metadata": {},
     "output_type": "execute_result"
    }
   ],
   "source": [
    "df[\"fulfilled-by\"].nunique()"
   ]
  },
  {
   "cell_type": "code",
   "execution_count": 48,
   "id": "93ec5437",
   "metadata": {},
   "outputs": [],
   "source": [
    "df.drop(\"fulfilled-by\",axis=1,inplace=True)"
   ]
  },
  {
   "cell_type": "code",
   "execution_count": 49,
   "id": "c93b5d8d",
   "metadata": {},
   "outputs": [
    {
     "data": {
      "text/plain": [
       "1"
      ]
     },
     "execution_count": 49,
     "metadata": {},
     "output_type": "execute_result"
    }
   ],
   "source": [
    "df[\"Unnamed: 22\"].nunique()"
   ]
  },
  {
   "cell_type": "code",
   "execution_count": 50,
   "id": "de291011",
   "metadata": {},
   "outputs": [],
   "source": [
    "df.drop(\"Unnamed: 22\",axis=1,inplace=True)"
   ]
  },
  {
   "cell_type": "code",
   "execution_count": 51,
   "id": "6847c0b6",
   "metadata": {},
   "outputs": [
    {
     "data": {
      "text/plain": [
       "Date                      0\n",
       "Status                    0\n",
       "Fulfilment                0\n",
       "Sales Channel             0\n",
       "ship-service-level        0\n",
       "Style                     0\n",
       "SKU                       0\n",
       "Category                  0\n",
       "Size                      0\n",
       "ASIN                      0\n",
       "Qty                       0\n",
       "Amount                 7795\n",
       "ship-state               33\n",
       "ship-postal-code         33\n",
       "promotion-ids         49153\n",
       "B2B                       0\n",
       "dtype: int64"
      ]
     },
     "execution_count": 51,
     "metadata": {},
     "output_type": "execute_result"
    }
   ],
   "source": [
    "df.isna().sum()"
   ]
  },
  {
   "cell_type": "code",
   "execution_count": 52,
   "id": "7318598b",
   "metadata": {},
   "outputs": [
    {
     "data": {
      "text/plain": [
       "Date                   0.000000\n",
       "Status                 0.000000\n",
       "Fulfilment             0.000000\n",
       "Sales Channel          0.000000\n",
       "ship-service-level     0.000000\n",
       "Style                  0.000000\n",
       "SKU                    0.000000\n",
       "Category               0.000000\n",
       "Size                   0.000000\n",
       "ASIN                   0.000000\n",
       "Qty                    0.000000\n",
       "Amount                 6.043807\n",
       "ship-state             0.025586\n",
       "ship-postal-code       0.025586\n",
       "promotion-ids         38.110487\n",
       "B2B                    0.000000\n",
       "dtype: float64"
      ]
     },
     "execution_count": 52,
     "metadata": {},
     "output_type": "execute_result"
    }
   ],
   "source": [
    "df.isna().sum()/df.shape[0]*100"
   ]
  },
  {
   "cell_type": "code",
   "execution_count": 53,
   "id": "24e4a53a",
   "metadata": {},
   "outputs": [
    {
     "data": {
      "text/plain": [
       "SHIPPED      110643\n",
       "CANCELLED     18332\n",
       "Name: Status, dtype: int64"
      ]
     },
     "execution_count": 53,
     "metadata": {},
     "output_type": "execute_result"
    }
   ],
   "source": [
    "df[\"Status\"].value_counts()"
   ]
  },
  {
   "cell_type": "code",
   "execution_count": 54,
   "id": "b9c05006",
   "metadata": {},
   "outputs": [
    {
     "data": {
      "text/plain": [
       "33"
      ]
     },
     "execution_count": 54,
     "metadata": {},
     "output_type": "execute_result"
    }
   ],
   "source": [
    "df[\"ship-state\"].isnull().sum()"
   ]
  },
  {
   "cell_type": "code",
   "execution_count": 55,
   "id": "61e1515c",
   "metadata": {},
   "outputs": [
    {
     "data": {
      "text/plain": [
       "(128975, 16)"
      ]
     },
     "execution_count": 55,
     "metadata": {},
     "output_type": "execute_result"
    }
   ],
   "source": [
    "df.shape"
   ]
  },
  {
   "cell_type": "code",
   "execution_count": 56,
   "id": "0c959941",
   "metadata": {},
   "outputs": [],
   "source": [
    "df = df.loc[df[\"ship-state\"].isnull()==False]"
   ]
  },
  {
   "cell_type": "code",
   "execution_count": 57,
   "id": "16f1f31d",
   "metadata": {},
   "outputs": [
    {
     "data": {
      "text/plain": [
       "(128942, 16)"
      ]
     },
     "execution_count": 57,
     "metadata": {},
     "output_type": "execute_result"
    }
   ],
   "source": [
    "df.shape"
   ]
  },
  {
   "cell_type": "code",
   "execution_count": 58,
   "id": "49443f79",
   "metadata": {},
   "outputs": [
    {
     "data": {
      "text/plain": [
       "Date                   0.000000\n",
       "Status                 0.000000\n",
       "Fulfilment             0.000000\n",
       "Sales Channel          0.000000\n",
       "ship-service-level     0.000000\n",
       "Style                  0.000000\n",
       "SKU                    0.000000\n",
       "Category               0.000000\n",
       "Size                   0.000000\n",
       "ASIN                   0.000000\n",
       "Qty                    0.000000\n",
       "Amount                 6.043803\n",
       "ship-state             0.000000\n",
       "ship-postal-code       0.000000\n",
       "promotion-ids         38.114036\n",
       "B2B                    0.000000\n",
       "dtype: float64"
      ]
     },
     "execution_count": 58,
     "metadata": {},
     "output_type": "execute_result"
    }
   ],
   "source": [
    "df.isna().sum()/df.shape[0]*100"
   ]
  },
  {
   "cell_type": "code",
   "execution_count": 59,
   "id": "317686c5",
   "metadata": {},
   "outputs": [
    {
     "name": "stderr",
     "output_type": "stream",
     "text": [
      "C:\\Users\\PARESH~1\\AppData\\Local\\Temp/ipykernel_23164/3415882297.py:1: SettingWithCopyWarning: \n",
      "A value is trying to be set on a copy of a slice from a DataFrame.\n",
      "Try using .loc[row_indexer,col_indexer] = value instead\n",
      "\n",
      "See the caveats in the documentation: https://pandas.pydata.org/pandas-docs/stable/user_guide/indexing.html#returning-a-view-versus-a-copy\n",
      "  df[\"promotion-ids\"] = df[\"promotion-ids\"].map(lambda x: x.split(\" \") if type(x) == str else x )\\\n"
     ]
    }
   ],
   "source": [
    "df[\"promotion-ids\"] = df[\"promotion-ids\"].map(lambda x: x.split(\" \") if type(x) == str else x )\\\n",
    "                                         .map(lambda x: x[:3] if type(x) == list else x)\\\n",
    "                                         .map(lambda x: \" \".join(x) if type(x) == list else x)"
   ]
  },
  {
   "cell_type": "code",
   "execution_count": 60,
   "id": "2055206e",
   "metadata": {},
   "outputs": [
    {
     "data": {
      "text/plain": [
       "14"
      ]
     },
     "execution_count": 60,
     "metadata": {},
     "output_type": "execute_result"
    }
   ],
   "source": [
    "df[\"promotion-ids\"].nunique()"
   ]
  },
  {
   "cell_type": "code",
   "execution_count": null,
   "id": "a36d3188",
   "metadata": {},
   "outputs": [],
   "source": [
    "df[\"promotion-ids\"].isna().sum()"
   ]
  },
  {
   "cell_type": "code",
   "execution_count": null,
   "id": "6c7d7e3c",
   "metadata": {},
   "outputs": [],
   "source": [
    "df[\"promotion-ids\"].fillna(\"no promo\",inplace=True)"
   ]
  },
  {
   "cell_type": "code",
   "execution_count": null,
   "id": "70a1b67a",
   "metadata": {},
   "outputs": [],
   "source": [
    "df.isna().sum()"
   ]
  },
  {
   "cell_type": "code",
   "execution_count": null,
   "id": "7f74b1b9",
   "metadata": {},
   "outputs": [],
   "source": [
    "df[\"Amount\"].mean()"
   ]
  },
  {
   "cell_type": "code",
   "execution_count": null,
   "id": "19e97431",
   "metadata": {},
   "outputs": [],
   "source": [
    "df[\"Amount\"].median()"
   ]
  },
  {
   "cell_type": "code",
   "execution_count": null,
   "id": "ad29f1be",
   "metadata": {},
   "outputs": [],
   "source": [
    "plt.hist(df[\"Amount\"],bins=100)"
   ]
  },
  {
   "cell_type": "code",
   "execution_count": null,
   "id": "8a39c071",
   "metadata": {},
   "outputs": [],
   "source": [
    "df[\"Amount\"].fillna(df[\"Amount\"].median(),inplace=True)"
   ]
  },
  {
   "cell_type": "code",
   "execution_count": null,
   "id": "3ba5b640",
   "metadata": {},
   "outputs": [],
   "source": [
    "df.isna().sum()"
   ]
  },
  {
   "cell_type": "code",
   "execution_count": null,
   "id": "4e3b49f2",
   "metadata": {},
   "outputs": [],
   "source": [
    "df.to_csv(\"Amazon processed2.csv\",index=False)"
   ]
  },
  {
   "cell_type": "code",
   "execution_count": null,
   "id": "a5f786dd",
   "metadata": {},
   "outputs": [],
   "source": [
    "df.shape"
   ]
  },
  {
   "cell_type": "code",
   "execution_count": null,
   "id": "02cb85a2",
   "metadata": {},
   "outputs": [],
   "source": [
    "df = df.loc[df[\"ship-state\"] != \"APO\",]"
   ]
  },
  {
   "cell_type": "code",
   "execution_count": null,
   "id": "3cd17a54",
   "metadata": {},
   "outputs": [],
   "source": [
    "df.shape"
   ]
  },
  {
   "cell_type": "code",
   "execution_count": null,
   "id": "5b2e3291",
   "metadata": {},
   "outputs": [],
   "source": [
    "df[\"SKU\"].unique()"
   ]
  },
  {
   "cell_type": "code",
   "execution_count": null,
   "id": "480d6159",
   "metadata": {},
   "outputs": [],
   "source": [
    "df[\"SKU\"].nunique()"
   ]
  },
  {
   "cell_type": "code",
   "execution_count": null,
   "id": "6560494d",
   "metadata": {},
   "outputs": [],
   "source": [
    "df[\"SKU\"] = df[\"SKU\"].map(lambda x: x.split(\"-\") if type(x) == str else x )\\\n",
    "                     .map(lambda x: x[:2] if type(x) == list else x)\\\n",
    "                     .map(lambda x: \"-\".join(x) if type(x) == list else x)"
   ]
  },
  {
   "cell_type": "code",
   "execution_count": null,
   "id": "4101c2f1",
   "metadata": {},
   "outputs": [],
   "source": [
    "df[\"SKU\"].nunique()"
   ]
  },
  {
   "cell_type": "code",
   "execution_count": null,
   "id": "8b4da9e9",
   "metadata": {},
   "outputs": [],
   "source": [
    "df[\"Style\"].unique()"
   ]
  },
  {
   "cell_type": "code",
   "execution_count": null,
   "id": "d0802c44",
   "metadata": {},
   "outputs": [],
   "source": [
    "df[\"Style\"].nunique()"
   ]
  },
  {
   "cell_type": "code",
   "execution_count": null,
   "id": "394bc30c",
   "metadata": {},
   "outputs": [],
   "source": [
    "df[[\"Style\",\"SKU\"]].value_counts()"
   ]
  },
  {
   "cell_type": "code",
   "execution_count": null,
   "id": "97313d88",
   "metadata": {},
   "outputs": [],
   "source": [
    "df.drop(\"SKU\",axis=1,inplace=True)"
   ]
  },
  {
   "cell_type": "code",
   "execution_count": null,
   "id": "dbcf51e3",
   "metadata": {},
   "outputs": [],
   "source": [
    "df.to_csv(\"Amazon processed3.csv\",index=False)"
   ]
  },
  {
   "cell_type": "code",
   "execution_count": null,
   "id": "db779132",
   "metadata": {},
   "outputs": [],
   "source": [
    "df.drop(\"Date\",axis=1,inplace=True)"
   ]
  },
  {
   "cell_type": "code",
   "execution_count": null,
   "id": "7f398615",
   "metadata": {},
   "outputs": [],
   "source": [
    "df3 = pd.get_dummies(df,drop_first=True)"
   ]
  },
  {
   "cell_type": "code",
   "execution_count": null,
   "id": "30d735d8",
   "metadata": {},
   "outputs": [],
   "source": [
    "sel = SelectFromModel(DecisionTreeClassifier(random_state=7 ),\n",
    "                      threshold = \"mean\")"
   ]
  },
  {
   "cell_type": "code",
   "execution_count": null,
   "id": "78768f87",
   "metadata": {},
   "outputs": [],
   "source": [
    "X = df3.drop(\"Status_SHIPPED\", axis=1)\n",
    "y = df3[\"Status_SHIPPED\"]"
   ]
  },
  {
   "cell_type": "code",
   "execution_count": null,
   "id": "48f5baab",
   "metadata": {},
   "outputs": [],
   "source": [
    "sel.fit(X,y)"
   ]
  },
  {
   "cell_type": "code",
   "execution_count": null,
   "id": "c6724e79",
   "metadata": {},
   "outputs": [],
   "source": [
    "sel.estimator_.feature_importances_"
   ]
  },
  {
   "cell_type": "code",
   "execution_count": null,
   "id": "e1962300",
   "metadata": {},
   "outputs": [],
   "source": [
    "X_DT = sel.transform(X)"
   ]
  },
  {
   "cell_type": "code",
   "execution_count": null,
   "id": "5898a068",
   "metadata": {},
   "outputs": [],
   "source": [
    "X_DT.shape"
   ]
  },
  {
   "cell_type": "code",
   "execution_count": null,
   "id": "2d4a7196",
   "metadata": {},
   "outputs": [],
   "source": [
    "X.loc[:,sel.estimator_.feature_importances_>sel.estimator_.feature_importances_.mean()].columns"
   ]
  },
  {
   "cell_type": "code",
   "execution_count": null,
   "id": "9dc0c1e3",
   "metadata": {},
   "outputs": [],
   "source": [
    "cbc = CatBoostClassifier(random_state=7)"
   ]
  },
  {
   "cell_type": "code",
   "execution_count": null,
   "id": "ca312a44",
   "metadata": {},
   "outputs": [],
   "source": [
    "X_train,X_test,y_train,y_test = train_test_split(X_DT,y,test_size=0.3,\n",
    "                                                 random_state=7,\n",
    "                                                 stratify=y)"
   ]
  },
  {
   "cell_type": "code",
   "execution_count": null,
   "id": "7a753cac",
   "metadata": {},
   "outputs": [],
   "source": [
    "X_train.shape,X_test.shape,y_train.shape,y_test.shape"
   ]
  },
  {
   "cell_type": "code",
   "execution_count": null,
   "id": "9f4fc97b",
   "metadata": {},
   "outputs": [],
   "source": [
    "cbc.fit(X_train,y_train)"
   ]
  },
  {
   "cell_type": "code",
   "execution_count": null,
   "id": "42ac3ad2",
   "metadata": {},
   "outputs": [],
   "source": [
    "y_pred = cbc.predict(X_test)"
   ]
  },
  {
   "cell_type": "code",
   "execution_count": null,
   "id": "db1b18f2",
   "metadata": {},
   "outputs": [],
   "source": [
    "f1_score(y_test,y_pred, average=\"micro\")"
   ]
  },
  {
   "cell_type": "code",
   "execution_count": null,
   "id": "50d96de8",
   "metadata": {},
   "outputs": [],
   "source": [
    "precision_score(y_test,y_pred)"
   ]
  },
  {
   "cell_type": "code",
   "execution_count": null,
   "id": "f12656fb",
   "metadata": {},
   "outputs": [],
   "source": [
    "recall_score(y_test,y_pred)"
   ]
  },
  {
   "cell_type": "code",
   "execution_count": null,
   "id": "82e23287",
   "metadata": {},
   "outputs": [],
   "source": []
  },
  {
   "cell_type": "code",
   "execution_count": null,
   "id": "1579a7a1",
   "metadata": {},
   "outputs": [],
   "source": [
    "sel = SelectFromModel(CatBoostClassifier(random_seed=7),\n",
    "                      threshold = \"mean\")"
   ]
  },
  {
   "cell_type": "code",
   "execution_count": null,
   "id": "d0e26616",
   "metadata": {},
   "outputs": [],
   "source": [
    "sel.fit(X_train,y_train)"
   ]
  },
  {
   "cell_type": "code",
   "execution_count": null,
   "id": "92ae2bdd",
   "metadata": {},
   "outputs": [],
   "source": [
    "X.loc[:,sel.estimator_.feature_importances_>sel.estimator_.feature_importances_.mean()].columns"
   ]
  },
  {
   "cell_type": "code",
   "execution_count": null,
   "id": "4a52af03",
   "metadata": {},
   "outputs": [],
   "source": [
    "X_train_cbc = sel.transform(X_train)\n",
    "X_test_cbc = sel.transform(X_test)"
   ]
  },
  {
   "cell_type": "code",
   "execution_count": null,
   "id": "ea5bc056",
   "metadata": {},
   "outputs": [],
   "source": [
    "X_train_cbc.shape, X_test_cbc.shape"
   ]
  },
  {
   "cell_type": "code",
   "execution_count": null,
   "id": "0a22f717",
   "metadata": {},
   "outputs": [],
   "source": [
    "cbc = CatBoostClassifier(random_state=7)"
   ]
  },
  {
   "cell_type": "code",
   "execution_count": null,
   "id": "baf96a89",
   "metadata": {},
   "outputs": [],
   "source": [
    "cbc.fit(X_train_cbc,y_train)"
   ]
  },
  {
   "cell_type": "code",
   "execution_count": null,
   "id": "1e2921d6",
   "metadata": {},
   "outputs": [],
   "source": [
    "y_pred = cbc.predict(X_test_cbc)"
   ]
  },
  {
   "cell_type": "code",
   "execution_count": null,
   "id": "d3dd7d2f",
   "metadata": {},
   "outputs": [],
   "source": [
    "precision_score(y_test,y_pred), recall_score(y_test,y_pred), f1_score(y_test,y_pred, average=\"micro\")"
   ]
  },
  {
   "cell_type": "code",
   "execution_count": null,
   "id": "3db717e9",
   "metadata": {},
   "outputs": [],
   "source": []
  },
  {
   "cell_type": "code",
   "execution_count": null,
   "id": "3d4e3e0c",
   "metadata": {},
   "outputs": [],
   "source": [
    "df1 = df.drop(\"Qty\",axis=1)"
   ]
  },
  {
   "cell_type": "code",
   "execution_count": null,
   "id": "6e1becd7",
   "metadata": {},
   "outputs": [],
   "source": [
    "df1_ohe = pd.get_dummies(df1,drop_first=True)"
   ]
  },
  {
   "cell_type": "code",
   "execution_count": null,
   "id": "02792853",
   "metadata": {},
   "outputs": [],
   "source": [
    "X1 = df1_ohe.drop(\"Status_SHIPPED\",axis=1)\n",
    "y1 = df1_ohe[\"Status_SHIPPED\"]"
   ]
  },
  {
   "cell_type": "code",
   "execution_count": null,
   "id": "45b78778",
   "metadata": {},
   "outputs": [],
   "source": [
    "X_train,X_test,y_train,y_test = train_test_split(X1,y1,test_size=0.3,\n",
    "                                                 random_state=7,\n",
    "                                                 stratify=y)"
   ]
  },
  {
   "cell_type": "code",
   "execution_count": null,
   "id": "19325f2a",
   "metadata": {},
   "outputs": [],
   "source": [
    "sel = SelectFromModel(CatBoostClassifier(random_seed=7,iterations=500),\n",
    "                      threshold = \"mean\")"
   ]
  },
  {
   "cell_type": "code",
   "execution_count": null,
   "id": "46552ad2",
   "metadata": {},
   "outputs": [],
   "source": [
    "sel.fit(X_train,y_train)"
   ]
  },
  {
   "cell_type": "code",
   "execution_count": null,
   "id": "0d68448b",
   "metadata": {},
   "outputs": [],
   "source": [
    "X1.loc[:,sel.estimator_.feature_importances_>sel.estimator_.feature_importances_.mean()].columns"
   ]
  },
  {
   "cell_type": "code",
   "execution_count": null,
   "id": "3d2caf80",
   "metadata": {},
   "outputs": [],
   "source": [
    "X_train_cbc = sel.transform(X_train)\n",
    "X_test_cbc = sel.transform(X_test)"
   ]
  },
  {
   "cell_type": "code",
   "execution_count": null,
   "id": "c342e9dc",
   "metadata": {},
   "outputs": [],
   "source": [
    "X_train_cbc.shape, X_test_cbc.shape"
   ]
  },
  {
   "cell_type": "code",
   "execution_count": null,
   "id": "6fecae55",
   "metadata": {},
   "outputs": [],
   "source": [
    "cbc = CatBoostClassifier(random_state=7,iterations=500)"
   ]
  },
  {
   "cell_type": "code",
   "execution_count": null,
   "id": "90e2eff1",
   "metadata": {},
   "outputs": [],
   "source": [
    "cbc.fit(X_train_cbc,y_train)"
   ]
  },
  {
   "cell_type": "code",
   "execution_count": null,
   "id": "12b89e63",
   "metadata": {},
   "outputs": [],
   "source": [
    "y_pred = cbc.predict(X_test_cbc)"
   ]
  },
  {
   "cell_type": "code",
   "execution_count": null,
   "id": "ecb4e73f",
   "metadata": {},
   "outputs": [],
   "source": [
    "precision_score(y_test,y_pred),recall_score(y_test,y_pred),f1_score(y_test,y_pred, average=\"micro\")"
   ]
  },
  {
   "cell_type": "code",
   "execution_count": null,
   "id": "3234f16f",
   "metadata": {},
   "outputs": [],
   "source": [
    "df_asin_drop = df1.drop(\"ASIN\",axis=1)"
   ]
  },
  {
   "cell_type": "code",
   "execution_count": null,
   "id": "feaddccb",
   "metadata": {},
   "outputs": [],
   "source": [
    "df_asin_drop[\"ship-postal-code\"] = df_asin_drop[\"ship-postal-code\"].astype(\"object\")"
   ]
  },
  {
   "cell_type": "code",
   "execution_count": null,
   "id": "6dce3d55",
   "metadata": {},
   "outputs": [],
   "source": [
    "df_posco_ohe = pd.get_dummies(df_asin_drop,drop_first=True)"
   ]
  },
  {
   "cell_type": "code",
   "execution_count": null,
   "id": "c9a45aae",
   "metadata": {},
   "outputs": [],
   "source": [
    "X_pc = df_posco_ohe.drop(\"Status_SHIPPED\",axis=1)\n",
    "y_pc = df_posco_ohe[\"Status_SHIPPED\"]"
   ]
  },
  {
   "cell_type": "code",
   "execution_count": null,
   "id": "21d656af",
   "metadata": {},
   "outputs": [],
   "source": [
    "X_train,X_test,y_train,y_test = train_test_split(X_pc,y_pc,test_size=0.3,\n",
    "                                                 random_state=7,\n",
    "                                                 stratify=y)"
   ]
  },
  {
   "cell_type": "code",
   "execution_count": null,
   "id": "43f020e5",
   "metadata": {},
   "outputs": [],
   "source": [
    "sel = SelectFromModel(CatBoostClassifier(random_seed=7,iterations=500),\n",
    "                      threshold = \"mean\")"
   ]
  },
  {
   "cell_type": "code",
   "execution_count": null,
   "id": "2dfcfb95",
   "metadata": {},
   "outputs": [],
   "source": [
    "sel.fit(X_train,y_train)"
   ]
  },
  {
   "cell_type": "code",
   "execution_count": null,
   "id": "75be2ecb",
   "metadata": {},
   "outputs": [],
   "source": [
    "X_pc.loc[:,sel.estimator_.feature_importances_>sel.estimator_.feature_importances_.mean()].columns"
   ]
  },
  {
   "cell_type": "code",
   "execution_count": null,
   "id": "315d0bf8",
   "metadata": {},
   "outputs": [],
   "source": [
    "X_train_cbc = sel.transform(X_train)\n",
    "X_test_cbc = sel.transform(X_test)"
   ]
  },
  {
   "cell_type": "code",
   "execution_count": null,
   "id": "6925d1be",
   "metadata": {},
   "outputs": [],
   "source": [
    "X_train_cbc.shape, X_test_cbc.shape"
   ]
  },
  {
   "cell_type": "code",
   "execution_count": null,
   "id": "ec7cc92f",
   "metadata": {},
   "outputs": [],
   "source": [
    "cbc = CatBoostClassifier(random_state=7,iterations=500)"
   ]
  },
  {
   "cell_type": "code",
   "execution_count": null,
   "id": "7b13dbc9",
   "metadata": {},
   "outputs": [],
   "source": [
    "cbc.fit(X_train_cbc,y_train)"
   ]
  },
  {
   "cell_type": "code",
   "execution_count": null,
   "id": "5f537267",
   "metadata": {},
   "outputs": [],
   "source": [
    "y_pred = cbc.predict(X_test_cbc)"
   ]
  },
  {
   "cell_type": "code",
   "execution_count": null,
   "id": "9128fb1c",
   "metadata": {},
   "outputs": [],
   "source": [
    "precision_score(y_test,y_pred),recall_score(y_test,y_pred),f1_score(y_test,y_pred, average=\"micro\")"
   ]
  },
  {
   "cell_type": "code",
   "execution_count": null,
   "id": "4e137225",
   "metadata": {},
   "outputs": [],
   "source": [
    "param_grid = {\"n_estimators\":[100,350],\n",
    "             \"min_samples_split\":[0.01,0.05],\n",
    "             \"max_depth\":[20,30]}"
   ]
  },
  {
   "cell_type": "code",
   "execution_count": null,
   "id": "b415d921",
   "metadata": {},
   "outputs": [],
   "source": [
    "gcv = GridSearchCV(estimator = RandomForestClassifier(bootstrap=True,oob_score=True,random_state = 7),param_grid=param_grid)"
   ]
  },
  {
   "cell_type": "code",
   "execution_count": null,
   "id": "b2056878",
   "metadata": {},
   "outputs": [],
   "source": [
    "gcv.fit(X_train_cbc,y_train)"
   ]
  },
  {
   "cell_type": "code",
   "execution_count": null,
   "id": "05de7998",
   "metadata": {},
   "outputs": [],
   "source": [
    "gcv.best_score_"
   ]
  },
  {
   "cell_type": "code",
   "execution_count": null,
   "id": "9f3cd708",
   "metadata": {},
   "outputs": [],
   "source": [
    "gcv.best_params_"
   ]
  },
  {
   "cell_type": "code",
   "execution_count": null,
   "id": "9e72373e",
   "metadata": {},
   "outputs": [],
   "source": [
    "param_grid2 = {\"n_estimators\":[350,500],\n",
    "             \"min_samples_split\":[0.01,0.005],\n",
    "             \"max_depth\":[20,10]}"
   ]
  },
  {
   "cell_type": "code",
   "execution_count": null,
   "id": "2401415c",
   "metadata": {},
   "outputs": [],
   "source": [
    "gcv2 = GridSearchCV(estimator = RandomForestClassifier(bootstrap=True,oob_score=True,random_state = 7),param_grid=param_grid2,verbose=2)"
   ]
  },
  {
   "cell_type": "code",
   "execution_count": null,
   "id": "edf0897e",
   "metadata": {},
   "outputs": [],
   "source": [
    "gcv2.fit(X_train_cbc,y_train)"
   ]
  },
  {
   "cell_type": "code",
   "execution_count": null,
   "id": "e3ebe657",
   "metadata": {},
   "outputs": [],
   "source": [
    "gcv2.best_score_"
   ]
  },
  {
   "cell_type": "code",
   "execution_count": null,
   "id": "b2b69551",
   "metadata": {},
   "outputs": [],
   "source": [
    "gcv2.best_params_"
   ]
  },
  {
   "cell_type": "code",
   "execution_count": null,
   "id": "bfd7abef",
   "metadata": {},
   "outputs": [],
   "source": [
    "rf = RandomForestClassifier(bootstrap=True,oob_score=True,random_state = 7,max_depth=20,min_samples_split=0.005,n_estimators=500)"
   ]
  },
  {
   "cell_type": "code",
   "execution_count": null,
   "id": "6c6bc677",
   "metadata": {},
   "outputs": [],
   "source": [
    "rf.fit(X_train_cbc,y_train)"
   ]
  },
  {
   "cell_type": "code",
   "execution_count": null,
   "id": "c1c41334",
   "metadata": {},
   "outputs": [],
   "source": [
    "y_pred_rf = rf.predict(X_test_cbc)"
   ]
  },
  {
   "cell_type": "code",
   "execution_count": null,
   "id": "1584625d",
   "metadata": {},
   "outputs": [],
   "source": [
    "precision_score(y_test,y_pred_rf),recall_score(y_test,y_pred_rf),f1_score(y_test,y_pred_rf, average=\"micro\")"
   ]
  },
  {
   "cell_type": "code",
   "execution_count": null,
   "id": "662e24b5",
   "metadata": {},
   "outputs": [],
   "source": [
    "param_grid_cbc = {\"depth\":[6,10,20],\n",
    "                 \"l2_leaf_reg\":[0.1,1,10],\n",
    "                 \"border_count\":[128,254]}"
   ]
  },
  {
   "cell_type": "code",
   "execution_count": null,
   "id": "fa3ce30c",
   "metadata": {},
   "outputs": [],
   "source": [
    "gcv_cbc = GridSearchCV(estimator = CatBoostClassifier(random_seed=7,iterations=500)\\\n",
    "                       ,param_grid=param_grid_cbc,cv=2,verbose=2)"
   ]
  },
  {
   "cell_type": "code",
   "execution_count": null,
   "id": "3d90501e",
   "metadata": {},
   "outputs": [],
   "source": [
    "gcv_cbc.fit(X_train_cbc,y_train)"
   ]
  },
  {
   "cell_type": "code",
   "execution_count": null,
   "id": "070517a6",
   "metadata": {},
   "outputs": [],
   "source": [
    "gcv_cbc.best_score_"
   ]
  },
  {
   "cell_type": "code",
   "execution_count": null,
   "id": "0d6d5d75",
   "metadata": {},
   "outputs": [],
   "source": [
    "gcv_cbc.best_params_"
   ]
  },
  {
   "cell_type": "code",
   "execution_count": null,
   "id": "fea12ea4",
   "metadata": {},
   "outputs": [],
   "source": [
    "cbc_gcv_model = CatBoostClassifier(random_state=7,iterations=500,border_count=254,depth=6,l2_leaf_reg=1)"
   ]
  },
  {
   "cell_type": "code",
   "execution_count": null,
   "id": "8a62f16d",
   "metadata": {},
   "outputs": [],
   "source": [
    "cbc_gcv_model.fit(X_train_cbc,y_train)"
   ]
  },
  {
   "cell_type": "code",
   "execution_count": null,
   "id": "5e561093",
   "metadata": {},
   "outputs": [],
   "source": [
    "y_cbc_gcv_pred = cbc_gcv_model.predict(X_test_cbc)"
   ]
  },
  {
   "cell_type": "code",
   "execution_count": null,
   "id": "f6c8a54d",
   "metadata": {},
   "outputs": [],
   "source": [
    "precision_score(y_test,y_cbc_gcv_pred),recall_score(y_test,y_cbc_gcv_pred),f1_score(y_test,y_cbc_gcv_pred, average=\"micro\")"
   ]
  },
  {
   "cell_type": "code",
   "execution_count": null,
   "id": "e23c1c82",
   "metadata": {},
   "outputs": [],
   "source": []
  },
  {
   "cell_type": "code",
   "execution_count": null,
   "id": "42737517",
   "metadata": {},
   "outputs": [],
   "source": []
  },
  {
   "cell_type": "code",
   "execution_count": null,
   "id": "79d74f30",
   "metadata": {},
   "outputs": [],
   "source": []
  },
  {
   "cell_type": "code",
   "execution_count": null,
   "id": "7782fdbb",
   "metadata": {},
   "outputs": [],
   "source": []
  },
  {
   "cell_type": "code",
   "execution_count": null,
   "id": "6c456d97",
   "metadata": {},
   "outputs": [],
   "source": []
  },
  {
   "cell_type": "code",
   "execution_count": null,
   "id": "96ba6e8d",
   "metadata": {},
   "outputs": [],
   "source": []
  },
  {
   "cell_type": "code",
   "execution_count": null,
   "id": "93e22575",
   "metadata": {},
   "outputs": [],
   "source": []
  },
  {
   "cell_type": "code",
   "execution_count": null,
   "id": "096e1d2b",
   "metadata": {},
   "outputs": [],
   "source": []
  },
  {
   "cell_type": "code",
   "execution_count": null,
   "id": "8dca60f8",
   "metadata": {},
   "outputs": [],
   "source": []
  },
  {
   "cell_type": "code",
   "execution_count": null,
   "id": "af8a00b0",
   "metadata": {},
   "outputs": [],
   "source": []
  },
  {
   "cell_type": "code",
   "execution_count": null,
   "id": "741abaed",
   "metadata": {},
   "outputs": [],
   "source": []
  },
  {
   "cell_type": "code",
   "execution_count": null,
   "id": "98b2b771",
   "metadata": {},
   "outputs": [],
   "source": []
  },
  {
   "cell_type": "code",
   "execution_count": null,
   "id": "677560a4",
   "metadata": {},
   "outputs": [],
   "source": []
  },
  {
   "cell_type": "code",
   "execution_count": null,
   "id": "d0efe8cf",
   "metadata": {},
   "outputs": [],
   "source": []
  },
  {
   "cell_type": "code",
   "execution_count": null,
   "id": "ca4445a2",
   "metadata": {},
   "outputs": [],
   "source": []
  },
  {
   "cell_type": "code",
   "execution_count": null,
   "id": "611c60d6",
   "metadata": {},
   "outputs": [],
   "source": []
  },
  {
   "cell_type": "code",
   "execution_count": null,
   "id": "e958058c",
   "metadata": {},
   "outputs": [],
   "source": []
  },
  {
   "cell_type": "code",
   "execution_count": null,
   "id": "2e2d372b",
   "metadata": {},
   "outputs": [],
   "source": []
  },
  {
   "cell_type": "code",
   "execution_count": null,
   "id": "1ab76132",
   "metadata": {},
   "outputs": [],
   "source": []
  },
  {
   "cell_type": "code",
   "execution_count": null,
   "id": "24d0b99e",
   "metadata": {},
   "outputs": [],
   "source": []
  },
  {
   "cell_type": "code",
   "execution_count": null,
   "id": "e6771542",
   "metadata": {},
   "outputs": [],
   "source": []
  },
  {
   "cell_type": "code",
   "execution_count": null,
   "id": "12da494f",
   "metadata": {},
   "outputs": [],
   "source": []
  },
  {
   "cell_type": "code",
   "execution_count": null,
   "id": "7aa27741",
   "metadata": {},
   "outputs": [],
   "source": []
  },
  {
   "cell_type": "code",
   "execution_count": null,
   "id": "f08d5498",
   "metadata": {},
   "outputs": [],
   "source": []
  },
  {
   "cell_type": "code",
   "execution_count": null,
   "id": "f4d3abc7",
   "metadata": {},
   "outputs": [],
   "source": []
  },
  {
   "cell_type": "code",
   "execution_count": null,
   "id": "785386e3",
   "metadata": {},
   "outputs": [],
   "source": []
  }
 ],
 "metadata": {
  "kernelspec": {
   "display_name": "Python 3 (ipykernel)",
   "language": "python",
   "name": "python3"
  },
  "language_info": {
   "codemirror_mode": {
    "name": "ipython",
    "version": 3
   },
   "file_extension": ".py",
   "mimetype": "text/x-python",
   "name": "python",
   "nbconvert_exporter": "python",
   "pygments_lexer": "ipython3",
   "version": "3.9.7"
  }
 },
 "nbformat": 4,
 "nbformat_minor": 5
}
